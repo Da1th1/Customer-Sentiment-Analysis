{
 "cells": [
  {
   "cell_type": "markdown",
   "metadata": {},
   "source": [
    "# Customer Sentiment Analysis"
   ]
  },
  {
   "cell_type": "markdown",
   "metadata": {},
   "source": [
    "Alright! Let's dive into a Machine Learning project to analyze customer sentiment using the data you've provided. The process will involve several stages:  \n",
    "\n",
    "**Data Exploration:** Understand the structure of the data and its key features.  \n",
    "**Data Cleaning:** Handle missing data, outliers, and other anomalies.  \n",
    "**Feature Engineering:** Extract relevant features for the model.  \n",
    "**Data Visualization:** Explore data distributions and relationships.  \n",
    "**Model Selection:** Choose an appropriate model for sentiment analysis.  \n",
    "**Model Training:** Train the model on the training dataset.  \n",
    "**Model Evaluation:** Evaluate the model's performance on a test dataset.  \n",
    "**Conclusion:** Summarize the findings and insights.  \n",
    "\n",
    "Let's start with the first step: **Data Exploration**.\n",
    "\n",
    "## 1. Data Exploration\n",
    "Let's load the data and take a look at the first few rows."
   ]
  },
  {
   "cell_type": "code",
   "execution_count": 2,
   "metadata": {},
   "outputs": [
    {
     "data": {
      "text/html": [
       "<div>\n",
       "<style scoped>\n",
       "    .dataframe tbody tr th:only-of-type {\n",
       "        vertical-align: middle;\n",
       "    }\n",
       "\n",
       "    .dataframe tbody tr th {\n",
       "        vertical-align: top;\n",
       "    }\n",
       "\n",
       "    .dataframe thead th {\n",
       "        text-align: right;\n",
       "    }\n",
       "</style>\n",
       "<table border=\"1\" class=\"dataframe\">\n",
       "  <thead>\n",
       "    <tr style=\"text-align: right;\">\n",
       "      <th></th>\n",
       "      <th>Unnamed: 0</th>\n",
       "      <th>Clothing ID</th>\n",
       "      <th>Age</th>\n",
       "      <th>Title</th>\n",
       "      <th>Review Text</th>\n",
       "      <th>Rating</th>\n",
       "      <th>Recommended IND</th>\n",
       "      <th>Positive Feedback Count</th>\n",
       "      <th>Division Name</th>\n",
       "      <th>Department Name</th>\n",
       "      <th>Class Name</th>\n",
       "    </tr>\n",
       "  </thead>\n",
       "  <tbody>\n",
       "    <tr>\n",
       "      <th>0</th>\n",
       "      <td>0</td>\n",
       "      <td>767</td>\n",
       "      <td>33</td>\n",
       "      <td>NaN</td>\n",
       "      <td>Absolutely wonderful - silky and sexy and comf...</td>\n",
       "      <td>4</td>\n",
       "      <td>1</td>\n",
       "      <td>0</td>\n",
       "      <td>Initmates</td>\n",
       "      <td>Intimate</td>\n",
       "      <td>Intimates</td>\n",
       "    </tr>\n",
       "    <tr>\n",
       "      <th>1</th>\n",
       "      <td>1</td>\n",
       "      <td>1080</td>\n",
       "      <td>34</td>\n",
       "      <td>NaN</td>\n",
       "      <td>Love this dress!  it's sooo pretty.  i happene...</td>\n",
       "      <td>5</td>\n",
       "      <td>1</td>\n",
       "      <td>4</td>\n",
       "      <td>General</td>\n",
       "      <td>Dresses</td>\n",
       "      <td>Dresses</td>\n",
       "    </tr>\n",
       "    <tr>\n",
       "      <th>2</th>\n",
       "      <td>2</td>\n",
       "      <td>1077</td>\n",
       "      <td>60</td>\n",
       "      <td>Some major design flaws</td>\n",
       "      <td>I had such high hopes for this dress and reall...</td>\n",
       "      <td>3</td>\n",
       "      <td>0</td>\n",
       "      <td>0</td>\n",
       "      <td>General</td>\n",
       "      <td>Dresses</td>\n",
       "      <td>Dresses</td>\n",
       "    </tr>\n",
       "    <tr>\n",
       "      <th>3</th>\n",
       "      <td>3</td>\n",
       "      <td>1049</td>\n",
       "      <td>50</td>\n",
       "      <td>My favorite buy!</td>\n",
       "      <td>I love, love, love this jumpsuit. it's fun, fl...</td>\n",
       "      <td>5</td>\n",
       "      <td>1</td>\n",
       "      <td>0</td>\n",
       "      <td>General Petite</td>\n",
       "      <td>Bottoms</td>\n",
       "      <td>Pants</td>\n",
       "    </tr>\n",
       "    <tr>\n",
       "      <th>4</th>\n",
       "      <td>4</td>\n",
       "      <td>847</td>\n",
       "      <td>47</td>\n",
       "      <td>Flattering shirt</td>\n",
       "      <td>This shirt is very flattering to all due to th...</td>\n",
       "      <td>5</td>\n",
       "      <td>1</td>\n",
       "      <td>6</td>\n",
       "      <td>General</td>\n",
       "      <td>Tops</td>\n",
       "      <td>Blouses</td>\n",
       "    </tr>\n",
       "  </tbody>\n",
       "</table>\n",
       "</div>"
      ],
      "text/plain": [
       "   Unnamed: 0  Clothing ID  Age                    Title  \\\n",
       "0           0          767   33                      NaN   \n",
       "1           1         1080   34                      NaN   \n",
       "2           2         1077   60  Some major design flaws   \n",
       "3           3         1049   50         My favorite buy!   \n",
       "4           4          847   47         Flattering shirt   \n",
       "\n",
       "                                         Review Text  Rating  Recommended IND  \\\n",
       "0  Absolutely wonderful - silky and sexy and comf...       4                1   \n",
       "1  Love this dress!  it's sooo pretty.  i happene...       5                1   \n",
       "2  I had such high hopes for this dress and reall...       3                0   \n",
       "3  I love, love, love this jumpsuit. it's fun, fl...       5                1   \n",
       "4  This shirt is very flattering to all due to th...       5                1   \n",
       "\n",
       "   Positive Feedback Count   Division Name Department Name Class Name  \n",
       "0                        0       Initmates        Intimate  Intimates  \n",
       "1                        4         General         Dresses    Dresses  \n",
       "2                        0         General         Dresses    Dresses  \n",
       "3                        0  General Petite         Bottoms      Pants  \n",
       "4                        6         General            Tops    Blouses  "
      ]
     },
     "execution_count": 2,
     "metadata": {},
     "output_type": "execute_result"
    }
   ],
   "source": [
    "import pandas as pd\n",
    "\n",
    "# Load the dataset\n",
    "data = pd.read_csv('Womens Clothing E-Commerce Reviews.csv')\n",
    "\n",
    "# Display the first few rows of the dataset\n",
    "data.head()\n"
   ]
  },
  {
   "cell_type": "markdown",
   "metadata": {},
   "source": [
    "The dataset contains the following columns:  \n",
    "\n",
    "**Unnamed: 0:** An index or identifier for each review.  \n",
    "**Clothing ID:** The ID associated with the specific clothing item.  \n",
    "**Age:** Age of the reviewer.  \n",
    "**Title:** Title of the review (some values are missing).  \n",
    "**Review Text:** Text content of the review.  \n",
    "**Rating:** Rating given by the reviewer (from 1 to 5).  \n",
    "**Recommended IND:** Whether the reviewer recommends the product (1 for Yes, 0 for No).  \n",
    "**Positive Feedback Count:** Count of positive feedbacks received for the review.  \n",
    "**Division Name:** Name of the division product is associated with.  \n",
    "**Department Name:** Name of the department product is associated with.  \n",
    "**Class Name:** Class or category of the product.  \n",
    "\n",
    "Given that our goal is sentiment analysis, the most relevant columns for our analysis are the Review Text and Rating. The rating can be used as a proxy for sentiment, with higher ratings indicating positive sentiment and lower ratings indicating negative sentiment.  "
   ]
  },
  {
   "cell_type": "markdown",
   "metadata": {},
   "source": [
    "## 2. Data Cleaning\n",
    "Before diving into the analysis, we need to address the following:  \n",
    "\n",
    "- Handle missing values.  \n",
    "- Transform the `Rating` column into a binary sentiment indicator: Positive (1) or Negative (0).  \n",
    "  \n",
    "Let's first check for missing values in our dataset."
   ]
  },
  {
   "cell_type": "code",
   "execution_count": 3,
   "metadata": {},
   "outputs": [
    {
     "data": {
      "text/plain": [
       "Unnamed: 0                    0\n",
       "Clothing ID                   0\n",
       "Age                           0\n",
       "Title                      3810\n",
       "Review Text                 845\n",
       "Rating                        0\n",
       "Recommended IND               0\n",
       "Positive Feedback Count       0\n",
       "Division Name                14\n",
       "Department Name              14\n",
       "Class Name                   14\n",
       "dtype: int64"
      ]
     },
     "execution_count": 3,
     "metadata": {},
     "output_type": "execute_result"
    }
   ],
   "source": [
    "# Check for missing values in the dataset\n",
    "missing_values = data.isnull().sum()\n",
    "\n",
    "missing_values\n"
   ]
  },
  {
   "cell_type": "markdown",
   "metadata": {},
   "source": [
    "We observe the following missing values in the dataset:\n",
    "\n",
    "- **Title:** 3,810 missing values  \n",
    "- **Review Text:** 845 missing values  \n",
    "- **Division Name, Department Name, Class Name:** 14 missing values each  \n",
    "  \n",
    "Given that our primary focus is on `Review Text` for sentiment analysis, it's crucial to address its missing values. We'll remove rows with missing `Review Text`.  \n",
    "\n",
    "For the sentiment analysis, let's convert the `Rating` column into a binary sentiment indicator:  \n",
    "\n",
    "\n",
    "- **Positive (1):** Ratings of 4 and 5.  \n",
    "- **Negative (0):** Ratings of 1, 2, and 3.  \n",
    "  \n",
    "Let's proceed with these cleaning steps."
   ]
  },
  {
   "cell_type": "code",
   "execution_count": 4,
   "metadata": {},
   "outputs": [
    {
     "name": "stderr",
     "output_type": "stream",
     "text": [
      "/var/folders/v8/9xhfhm591nj7rd8l56001jnm0000gn/T/ipykernel_98255/363320807.py:5: SettingWithCopyWarning: \n",
      "A value is trying to be set on a copy of a slice from a DataFrame.\n",
      "Try using .loc[row_indexer,col_indexer] = value instead\n",
      "\n",
      "See the caveats in the documentation: https://pandas.pydata.org/pandas-docs/stable/user_guide/indexing.html#returning-a-view-versus-a-copy\n",
      "  data_cleaned['Sentiment'] = data_cleaned['Rating'].apply(lambda x: 1 if x > 3 else 0)\n"
     ]
    },
    {
     "data": {
      "text/html": [
       "<div>\n",
       "<style scoped>\n",
       "    .dataframe tbody tr th:only-of-type {\n",
       "        vertical-align: middle;\n",
       "    }\n",
       "\n",
       "    .dataframe tbody tr th {\n",
       "        vertical-align: top;\n",
       "    }\n",
       "\n",
       "    .dataframe thead th {\n",
       "        text-align: right;\n",
       "    }\n",
       "</style>\n",
       "<table border=\"1\" class=\"dataframe\">\n",
       "  <thead>\n",
       "    <tr style=\"text-align: right;\">\n",
       "      <th></th>\n",
       "      <th>Unnamed: 0</th>\n",
       "      <th>Clothing ID</th>\n",
       "      <th>Age</th>\n",
       "      <th>Title</th>\n",
       "      <th>Review Text</th>\n",
       "      <th>Rating</th>\n",
       "      <th>Recommended IND</th>\n",
       "      <th>Positive Feedback Count</th>\n",
       "      <th>Division Name</th>\n",
       "      <th>Department Name</th>\n",
       "      <th>Class Name</th>\n",
       "      <th>Sentiment</th>\n",
       "    </tr>\n",
       "  </thead>\n",
       "  <tbody>\n",
       "    <tr>\n",
       "      <th>0</th>\n",
       "      <td>0</td>\n",
       "      <td>767</td>\n",
       "      <td>33</td>\n",
       "      <td>NaN</td>\n",
       "      <td>Absolutely wonderful - silky and sexy and comf...</td>\n",
       "      <td>4</td>\n",
       "      <td>1</td>\n",
       "      <td>0</td>\n",
       "      <td>Initmates</td>\n",
       "      <td>Intimate</td>\n",
       "      <td>Intimates</td>\n",
       "      <td>1</td>\n",
       "    </tr>\n",
       "    <tr>\n",
       "      <th>1</th>\n",
       "      <td>1</td>\n",
       "      <td>1080</td>\n",
       "      <td>34</td>\n",
       "      <td>NaN</td>\n",
       "      <td>Love this dress!  it's sooo pretty.  i happene...</td>\n",
       "      <td>5</td>\n",
       "      <td>1</td>\n",
       "      <td>4</td>\n",
       "      <td>General</td>\n",
       "      <td>Dresses</td>\n",
       "      <td>Dresses</td>\n",
       "      <td>1</td>\n",
       "    </tr>\n",
       "    <tr>\n",
       "      <th>2</th>\n",
       "      <td>2</td>\n",
       "      <td>1077</td>\n",
       "      <td>60</td>\n",
       "      <td>Some major design flaws</td>\n",
       "      <td>I had such high hopes for this dress and reall...</td>\n",
       "      <td>3</td>\n",
       "      <td>0</td>\n",
       "      <td>0</td>\n",
       "      <td>General</td>\n",
       "      <td>Dresses</td>\n",
       "      <td>Dresses</td>\n",
       "      <td>0</td>\n",
       "    </tr>\n",
       "    <tr>\n",
       "      <th>3</th>\n",
       "      <td>3</td>\n",
       "      <td>1049</td>\n",
       "      <td>50</td>\n",
       "      <td>My favorite buy!</td>\n",
       "      <td>I love, love, love this jumpsuit. it's fun, fl...</td>\n",
       "      <td>5</td>\n",
       "      <td>1</td>\n",
       "      <td>0</td>\n",
       "      <td>General Petite</td>\n",
       "      <td>Bottoms</td>\n",
       "      <td>Pants</td>\n",
       "      <td>1</td>\n",
       "    </tr>\n",
       "    <tr>\n",
       "      <th>4</th>\n",
       "      <td>4</td>\n",
       "      <td>847</td>\n",
       "      <td>47</td>\n",
       "      <td>Flattering shirt</td>\n",
       "      <td>This shirt is very flattering to all due to th...</td>\n",
       "      <td>5</td>\n",
       "      <td>1</td>\n",
       "      <td>6</td>\n",
       "      <td>General</td>\n",
       "      <td>Tops</td>\n",
       "      <td>Blouses</td>\n",
       "      <td>1</td>\n",
       "    </tr>\n",
       "  </tbody>\n",
       "</table>\n",
       "</div>"
      ],
      "text/plain": [
       "   Unnamed: 0  Clothing ID  Age                    Title  \\\n",
       "0           0          767   33                      NaN   \n",
       "1           1         1080   34                      NaN   \n",
       "2           2         1077   60  Some major design flaws   \n",
       "3           3         1049   50         My favorite buy!   \n",
       "4           4          847   47         Flattering shirt   \n",
       "\n",
       "                                         Review Text  Rating  Recommended IND  \\\n",
       "0  Absolutely wonderful - silky and sexy and comf...       4                1   \n",
       "1  Love this dress!  it's sooo pretty.  i happene...       5                1   \n",
       "2  I had such high hopes for this dress and reall...       3                0   \n",
       "3  I love, love, love this jumpsuit. it's fun, fl...       5                1   \n",
       "4  This shirt is very flattering to all due to th...       5                1   \n",
       "\n",
       "   Positive Feedback Count   Division Name Department Name Class Name  \\\n",
       "0                        0       Initmates        Intimate  Intimates   \n",
       "1                        4         General         Dresses    Dresses   \n",
       "2                        0         General         Dresses    Dresses   \n",
       "3                        0  General Petite         Bottoms      Pants   \n",
       "4                        6         General            Tops    Blouses   \n",
       "\n",
       "   Sentiment  \n",
       "0          1  \n",
       "1          1  \n",
       "2          0  \n",
       "3          1  \n",
       "4          1  "
      ]
     },
     "execution_count": 4,
     "metadata": {},
     "output_type": "execute_result"
    }
   ],
   "source": [
    "# Drop rows with missing Review Text\n",
    "data_cleaned = data.dropna(subset=['Review Text'])\n",
    "\n",
    "# Convert Rating to binary sentiment indicator\n",
    "data_cleaned['Sentiment'] = data_cleaned['Rating'].apply(lambda x: 1 if x > 3 else 0)\n",
    "\n",
    "# Display the first few rows of the cleaned dataset\n",
    "data_cleaned.head()\n"
   ]
  },
  {
   "cell_type": "markdown",
   "metadata": {},
   "source": [
    "We have successfully cleaned the dataset and transformed the `Rating` column into a binary sentiment indicator. The `Sentiment` column now indicates whether a review is positive (1) or negative (0).  \n",
    "\n",
    "\n",
    "## 3. Feature Engineering  \n",
    "\n",
    "For sentiment analysis, the most critical feature is the textual content of the reviews. We'll use the `Review Text` column as our main feature and the `Sentiment` column as our target variable.  \n",
    "\n",
    "However, raw text data cannot be fed directly into machine learning models. We need to convert the text into a numerical format. One common method is the Term Frequency-Inverse Document Frequency (TF-IDF) technique, which represents text as a matrix of word occurrence scores.  \n",
    "\n",
    "Let's proceed with feature extraction using TF-IDF.  "
   ]
  },
  {
   "cell_type": "code",
   "execution_count": 5,
   "metadata": {},
   "outputs": [
    {
     "data": {
      "text/plain": [
       "((22641, 5000), (22641,))"
      ]
     },
     "execution_count": 5,
     "metadata": {},
     "output_type": "execute_result"
    }
   ],
   "source": [
    "from sklearn.feature_extraction.text import TfidfVectorizer\n",
    "\n",
    "# Initialize a TF-IDF vectorizer\n",
    "tfidf_vectorizer = TfidfVectorizer(max_features=5000, stop_words='english')\n",
    "\n",
    "# Transform the Review Text into TF-IDF features\n",
    "X = tfidf_vectorizer.fit_transform(data_cleaned['Review Text'])\n",
    "\n",
    "# Set the target variable as the Sentiment column\n",
    "y = data_cleaned['Sentiment']\n",
    "\n",
    "# Display the shape of the features and target variable\n",
    "X.shape, y.shape\n"
   ]
  },
  {
   "cell_type": "markdown",
   "metadata": {},
   "source": [
    "We've successfully converted the `Review Text` into numerical features using the TF-IDF vectorizer. We now have 22,641 samples and 5,000 features for each sample (representing the 5,000 most frequent terms in the reviews after removing stop words).  \n",
    "\n",
    "## 4. Data Visualization  \n",
    "\n",
    "Before diving into modeling, it's beneficial to visualize the data to gain insights and understand distributions.  \n",
    "\n",
    "Let's visualize the following:  \n",
    "\n",
    "1. Distribution of positive and negative sentiment.  \n",
    "2. Distribution of ratings.  \n",
    "3. Distribution of age with respect to sentiment.  \n",
    "   \n",
    "Let's start with the sentiment distribution."
   ]
  },
  {
   "cell_type": "code",
   "execution_count": 6,
   "metadata": {},
   "outputs": [
    {
     "data": {
      "image/png": "[encoded data removed]",
      "text/plain": [
       "<Figure size 800x500 with 1 Axes>"
      ]
     },
     "metadata": {},
     "output_type": "display_data"
    }
   ],
   "source": [
    "import matplotlib.pyplot as plt\n",
    "import seaborn as sns\n",
    "\n",
    "# Set the style for seaborn plots\n",
    "sns.set_style(\"whitegrid\")\n",
    "\n",
    "# Plot the distribution of Sentiment\n",
    "plt.figure(figsize=(8, 5))\n",
    "sns.countplot(data=data_cleaned, x='Sentiment', palette=\"Set2\")\n",
    "plt.title('Distribution of Positive and Negative Sentiment')\n",
    "plt.xlabel('Sentiment (1: Positive, 0: Negative)')\n",
    "plt.ylabel('Count')\n",
    "plt.show()\n"
   ]
  },
  {
   "cell_type": "markdown",
   "metadata": {},
   "source": [
    "The visualization shows that there are significantly more positive reviews (represented as 1) than negative reviews (represented as 0) in the dataset.  \n",
    "\n",
    "Next, let's visualize the distribution of ratings."
   ]
  },
  {
   "cell_type": "code",
   "execution_count": 7,
   "metadata": {},
   "outputs": [
    {
     "data": {
      "image/png": "[encoded data removed]",
      "text/plain": [
       "<Figure size 800x500 with 1 Axes>"
      ]
     },
     "metadata": {},
     "output_type": "display_data"
    }
   ],
   "source": [
    "# Plot the distribution of Ratings\n",
    "plt.figure(figsize=(8, 5))\n",
    "sns.countplot(data=data_cleaned, x='Rating', palette=\"Set2\")\n",
    "plt.title('Distribution of Ratings')\n",
    "plt.xlabel('Rating')\n",
    "plt.ylabel('Count')\n",
    "plt.show()\n"
   ]
  },
  {
   "cell_type": "markdown",
   "metadata": {},
   "source": [
    "From the visualization, we can see that the dataset contains a majority of high ratings (4 and 5). Ratings 1, 2, and 3 are less frequent, which aligns with our previous observation about the number of positive and negative sentiments.  \n",
    "\n",
    "Finally, let's visualize the distribution of age with respect to sentiment. This can provide insights into whether age has any influence on sentiment."
   ]
  },
  {
   "cell_type": "code",
   "execution_count": 8,
   "metadata": {},
   "outputs": [
    {
     "data": {
      "image/png": "[encoded data removed]",
      "text/plain": [
       "<Figure size 1400x700 with 1 Axes>"
      ]
     },
     "metadata": {},
     "output_type": "display_data"
    }
   ],
   "source": [
    "# Plot the distribution of Age with respect to Sentiment\n",
    "plt.figure(figsize=(14, 7))\n",
    "sns.histplot(data=data_cleaned, x='Age', hue='Sentiment', element=\"step\", stat=\"density\", common_norm=False)\n",
    "plt.title('Distribution of Age with Respect to Sentiment')\n",
    "plt.xlabel('Age')\n",
    "plt.ylabel('Density')\n",
    "plt.legend(title='Sentiment', labels=['Negative', 'Positive'])\n",
    "plt.show()\n"
   ]
  },
  {
   "cell_type": "markdown",
   "metadata": {},
   "source": [
    "The visualization shows the distribution of age with respect to sentiment. While there are some variations across different age groups, the general pattern indicates that positive sentiment is more prevalent across all age groups. There isn't a distinct trend suggesting that a particular age group is more inclined towards negative or positive reviews. This insight implies that age might not be a dominant factor influencing sentiment in this dataset.  \n",
    "\n",
    "## 5. Model Selection \n",
    "\n",
    "Given that we're dealing with a binary classification problem (predicting positive or negative sentiment), there are several models we can consider:\n",
    "\n",
    "1. **Logistic Regression:** A simple linear model suitable for binary classification problems.  \n",
    "2. **Random Forest:** An ensemble model that can capture non-linear patterns.  \n",
    "3. **Support Vector Machine (SVM):** Can handle high-dimensional data like text.  \n",
    "4. \n",
    "For this analysis, we'll start with Logistic Regression, given its simplicity and interpretability. If performance is not satisfactory, we can explore more complex models.  \n",
    "\n",
    "## 6. Model Training  \n",
    "\n",
    "Before training the model, we need to split the data into training and test sets. Let's do that and then proceed with training a Logistic Regression model."
   ]
  },
  {
   "cell_type": "code",
   "execution_count": 9,
   "metadata": {},
   "outputs": [
    {
     "data": {
      "text/plain": [
       "0.8763523956723338"
      ]
     },
     "execution_count": 9,
     "metadata": {},
     "output_type": "execute_result"
    }
   ],
   "source": [
    "from sklearn.model_selection import train_test_split\n",
    "from sklearn.linear_model import LogisticRegression\n",
    "from sklearn.metrics import classification_report, confusion_matrix, accuracy_score\n",
    "\n",
    "# Split the data into training and test sets\n",
    "X_train, X_test, y_train, y_test = train_test_split(X, y, test_size=0.2, random_state=42)\n",
    "\n",
    "# Initialize and train the Logistic Regression model\n",
    "log_reg = LogisticRegression(max_iter=1000)\n",
    "log_reg.fit(X_train, y_train)\n",
    "\n",
    "# Predict on the test set\n",
    "y_pred = log_reg.predict(X_test)\n",
    "\n",
    "# Calculate accuracy on the test set\n",
    "accuracy = accuracy_score(y_test, y_pred)\n",
    "\n",
    "accuracy\n"
   ]
  },
  {
   "cell_type": "markdown",
   "metadata": {},
   "source": [
    "The Logistic Regression model achieved an accuracy of approximately **87.64%** on the test set. This is a reasonably good performance, especially considering the simplicity of the model.  \n",
    "\n",
    "## 7. Model Evaluation \n",
    "\n",
    "For a comprehensive evaluation, we'll look at:  \n",
    "\n",
    "1. The confusion matrix to understand true positives, true negatives, false positives, and false negatives.  \n",
    "2. A classification report to understand precision, recall, and F1-score.  \n",
    "   \n",
    "Let's start with the confusion matrix."
   ]
  },
  {
   "cell_type": "code",
   "execution_count": 10,
   "metadata": {},
   "outputs": [
    {
     "data": {
      "image/png": "[encoded data removed]",
      "text/plain": [
       "<Figure size 700x500 with 1 Axes>"
      ]
     },
     "metadata": {},
     "output_type": "display_data"
    }
   ],
   "source": [
    "# Plot the confusion matrix\n",
    "plt.figure(figsize=(7, 5))\n",
    "sns.heatmap(confusion_matrix(y_test, y_pred), annot=True, fmt='g', cmap='Blues', cbar=False)\n",
    "plt.xlabel('Predicted Label')\n",
    "plt.ylabel('True Label')\n",
    "plt.title('Confusion Matrix')\n",
    "plt.show()\n"
   ]
  },
  {
   "cell_type": "markdown",
   "metadata": {},
   "source": [
    "The confusion matrix provides the following insights:  \n",
    "\n",
    "- **True Positives (bottom right):** 3,761 reviews were correctly predicted as positive.  \n",
    "- **True Negatives (top left):** 715 reviews were correctly predicted as negative.  \n",
    "- **False Positives (top right):** 143 reviews were wrongly predicted as positive.  \n",
    "- **False Negatives (bottom left):** 370 reviews were wrongly predicted as negative.  \n",
    "  \n",
    "For a deeper understanding of the model's performance, let's look at the classification report, which provides precision, recall, and F1-score for both classes."
   ]
  },
  {
   "cell_type": "code",
   "execution_count": 11,
   "metadata": {},
   "outputs": [
    {
     "data": {
      "text/plain": [
       "'              precision    recall  f1-score   support\\n\\n    Negative       0.84      0.58      0.68      1045\\n    Positive       0.88      0.97      0.92      3484\\n\\n    accuracy                           0.88      4529\\n   macro avg       0.86      0.77      0.80      4529\\nweighted avg       0.87      0.88      0.87      4529\\n'"
      ]
     },
     "execution_count": 11,
     "metadata": {},
     "output_type": "execute_result"
    }
   ],
   "source": [
    "# Generate and display the classification report\n",
    "class_report = classification_report(y_test, y_pred, target_names=['Negative', 'Positive'])\n",
    "\n",
    "class_report\n"
   ]
  },
  {
   "cell_type": "markdown",
   "metadata": {},
   "source": [
    "Here's the classification report:  \n",
    "\n",
    "- **Precision (Positive):** Of all reviews predicted as positive, 88% were actually positive.  \n",
    "\n",
    "- **Precision (Negative):** Of all reviews predicted as negative, 84% were actually negative.  \n",
    "\n",
    "- **Recall (Positive):** Of all actual positive reviews, 97% were predicted as positive.  \n",
    "\n",
    "- **Recall (Negative):** Of all actual negative reviews, 58% were predicted as negative.  \n",
    "\n",
    "- **F1-Score:** This is the harmonic mean of precision and recall. For positive reviews, it's 92%, and for negative reviews, it's 68%.  \n",
    "\n",
    "- **Accuracy:** About 87.64% of all predictions were correct.  \n",
    "\n",
    "The model performs significantly better in identifying positive reviews compared to negative ones. This is expected given the imbalance in the dataset, with more positive reviews than negative ones.  \n",
    "\n",
    "## 8. Conclusion  \n",
    "\n",
    "- The dataset contains a majority of positive reviews.  \n",
    "- The Logistic Regression model achieved an accuracy of approximately 87.64% on the test set.  \n",
    "- The model's performance is stronger for positive reviews compared to negative ones, likely due to the class imbalance in the dataset.  \n",
    "  \n",
    "For further improvement:  \n",
    "\n",
    "- We can try more complex models like Random Forest or SVM.  \n",
    "- Implementing techniques to handle class imbalance, like oversampling the minority class or using SMOTE, can help improve performance for the negative class.  \n",
    "  \n",
    "Overall, the project provides a comprehensive pipeline for sentiment analysis, from data exploration to model evaluation, with a focus on visualizations and insights."
   ]
  },
  {
   "cell_type": "markdown",
   "metadata": {},
   "source": []
  }
 ],
 "metadata": {
  "kernelspec": {
   "display_name": "Python 3",
   "language": "python",
   "name": "python3"
  },
  "language_info": {
   "codemirror_mode": {
    "name": "ipython",
    "version": 3
   },
   "file_extension": ".py",
   "mimetype": "text/x-python",
   "name": "python",
   "nbconvert_exporter": "python",
   "pygments_lexer": "ipython3",
   "version": "3.11.4"
  },
  "orig_nbformat": 4
 },
 "nbformat": 4,
 "nbformat_minor": 2
}
